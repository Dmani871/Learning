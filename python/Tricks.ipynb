{
 "cells": [
  {
   "cell_type": "markdown",
   "id": "5185cfeb-0379-456f-8a1c-acd8ca39f153",
   "metadata": {},
   "source": [
    "You can unpack with ranges as they are a sequence"
   ]
  },
  {
   "cell_type": "code",
   "execution_count": 3,
   "id": "3f5738cb-3363-41f2-929f-60acf0e6d5b6",
   "metadata": {},
   "outputs": [
    {
     "ename": "ValueError",
     "evalue": "not enough values to unpack (expected 7, got 1)",
     "output_type": "error",
     "traceback": [
      "\u001b[0;31m---------------------------------------------------------------------------\u001b[0m",
      "\u001b[0;31mValueError\u001b[0m                                Traceback (most recent call last)",
      "Input \u001b[0;32mIn [3]\u001b[0m, in \u001b[0;36m<cell line: 9>\u001b[0;34m()\u001b[0m\n\u001b[0;32m----> 1\u001b[0m (\n\u001b[1;32m      2\u001b[0m     SUCCESS,\n\u001b[1;32m      3\u001b[0m     DIR_ERROR,\n\u001b[1;32m      4\u001b[0m     FILE_ERROR,\n\u001b[1;32m      5\u001b[0m     DB_READ_ERROR,\n\u001b[1;32m      6\u001b[0m     DB_WRITE_ERROR,\n\u001b[1;32m      7\u001b[0m     JSON_ERROR,\n\u001b[1;32m      8\u001b[0m     ID_ERROR,\n\u001b[1;32m      9\u001b[0m ) \u001b[38;5;241m=\u001b[39m \u001b[38;5;28mrange\u001b[39m(\u001b[38;5;241m1\u001b[39m)\n",
      "\u001b[0;31mValueError\u001b[0m: not enough values to unpack (expected 7, got 1)"
     ]
    }
   ],
   "source": [
    "\n",
    "(\n",
    "    SUCCESS,\n",
    "    DIR_ERROR,\n",
    "    FILE_ERROR,\n",
    "    DB_READ_ERROR,\n",
    "    DB_WRITE_ERROR,\n",
    "    JSON_ERROR,\n",
    "    ID_ERROR,\n",
    ") = range(1)\n"
   ]
  },
  {
   "cell_type": "code",
   "execution_count": 2,
   "id": "bafa5987-f3f5-41cd-8b55-e9464da08acd",
   "metadata": {},
   "outputs": [
    {
     "data": {
      "text/plain": [
       "2"
      ]
     },
     "execution_count": 2,
     "metadata": {},
     "output_type": "execute_result"
    }
   ],
   "source": [
    "FILE_ERROR"
   ]
  },
  {
   "cell_type": "code",
   "execution_count": 5,
   "id": "ce9e20a5-12ca-4119-bb6b-e39d9c776110",
   "metadata": {},
   "outputs": [
    {
     "data": {
      "text/plain": [
       "range(0, 7)"
      ]
     },
     "execution_count": 5,
     "metadata": {},
     "output_type": "execute_result"
    }
   ],
   "source": [
    "range(7)"
   ]
  },
  {
   "cell_type": "code",
   "execution_count": 6,
   "id": "4c262e70-46de-4778-9750-bb51cec6b3c6",
   "metadata": {},
   "outputs": [
    {
     "data": {
      "text/plain": [
       "range"
      ]
     },
     "execution_count": 6,
     "metadata": {},
     "output_type": "execute_result"
    }
   ],
   "source": [
    "type(range(7))"
   ]
  },
  {
   "cell_type": "code",
   "execution_count": 7,
   "id": "7b78478a-5cbb-4f12-ad32-a82610538c0f",
   "metadata": {},
   "outputs": [
    {
     "data": {
      "text/plain": [
       "True"
      ]
     },
     "execution_count": 7,
     "metadata": {},
     "output_type": "execute_result"
    }
   ],
   "source": [
    "c=range(3)\n",
    "1 in c"
   ]
  },
  {
   "cell_type": "code",
   "execution_count": null,
   "id": "7cb4d4c9-f4ae-43cf-a7e8-70752b9c919f",
   "metadata": {},
   "outputs": [],
   "source": []
  }
 ],
 "metadata": {
  "kernelspec": {
   "display_name": "Python 3 (ipykernel)",
   "language": "python",
   "name": "python3"
  },
  "language_info": {
   "codemirror_mode": {
    "name": "ipython",
    "version": 3
   },
   "file_extension": ".py",
   "mimetype": "text/x-python",
   "name": "python",
   "nbconvert_exporter": "python",
   "pygments_lexer": "ipython3",
   "version": "3.9.12"
  }
 },
 "nbformat": 4,
 "nbformat_minor": 5
}
